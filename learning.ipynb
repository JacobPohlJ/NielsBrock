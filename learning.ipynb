{
 "cells": [
  {
   "cell_type": "code",
   "execution_count": 43,
   "metadata": {},
   "outputs": [
    {
     "name": "stdout",
     "output_type": "stream",
     "text": [
      "hej\n"
     ]
    }
   ],
   "source": [
    "# Lav dit første print statement. Skriv koden nedenunder. print()\n",
    "\n",
    "\n"
   ]
  },
  {
   "cell_type": "code",
   "execution_count": 45,
   "metadata": {},
   "outputs": [
    {
     "name": "stdout",
     "output_type": "stream",
     "text": [
      "False\n"
     ]
    }
   ],
   "source": [
    "def string():\n",
    "    # lav en \"string\" variable. Skriv koden på linjen under. \n",
    "    \n",
    "    return x\n",
    "\n",
    "print(isinstance(string(),str))"
   ]
  },
  {
   "cell_type": "code",
   "execution_count": 32,
   "metadata": {},
   "outputs": [
    {
     "name": "stdout",
     "output_type": "stream",
     "text": [
      "True\n"
     ]
    }
   ],
   "source": [
    "def integer():\n",
    "    # lav en \"interger\" variable. Skriv koden på linjen under. \n",
    "\n",
    "    return x\n",
    "\n",
    "print(isinstance(integer(),int))"
   ]
  },
  {
   "cell_type": "code",
   "execution_count": 14,
   "metadata": {},
   "outputs": [
    {
     "name": "stdout",
     "output_type": "stream",
     "text": [
      "True\n"
     ]
    }
   ],
   "source": [
    "def boolean():\n",
    "    # lav en \"boolean\" variable. Skriv koden på linjen under. \n",
    "\n",
    "    return x\n",
    "    \n",
    "print(isinstance(boolean(),bool))"
   ]
  },
  {
   "cell_type": "code",
   "execution_count": 40,
   "metadata": {},
   "outputs": [
    {
     "name": "stdout",
     "output_type": "stream",
     "text": [
      "True\n"
     ]
    }
   ],
   "source": [
    "def LIST():\n",
    "    # lav en \"list\" variable. Skriv koden på linjen under. \n",
    "\n",
    "    return x\n",
    "    \n",
    "print(isinstance(LIST(),list))"
   ]
  },
  {
   "attachments": {},
   "cell_type": "markdown",
   "metadata": {},
   "source": [
    "Nu har du lavet dine første variabler og klar til at begynde på if statements."
   ]
  },
  {
   "cell_type": "code",
   "execution_count": 42,
   "metadata": {},
   "outputs": [
    {
     "name": "stdout",
     "output_type": "stream",
     "text": [
      "a er mindre end b \n"
     ]
    }
   ],
   "source": [
    "# lav et if-statement some checker om a er mindre end b. Hvis det er sandt skal du printe, a er mindre end b.  \n",
    "\n",
    "def greater():\n",
    "    a = 1 \n",
    "    b = 2\n",
    "    \n",
    "        \n",
    "greater()"
   ]
  },
  {
   "cell_type": "code",
   "execution_count": 46,
   "metadata": {},
   "outputs": [
    {
     "name": "stdout",
     "output_type": "stream",
     "text": [
      "a er større end b\n"
     ]
    }
   ],
   "source": [
    "# lav et if-else statement some checker om a er større og mindre end b. Hvis det er sandt skal du printe, a er mindre end b. Ellers skal du printe a er større end b. \n",
    "\n",
    "def greaterOrLess():\n",
    "    a = 2 \n",
    "    b = 1\n",
    "    \n",
    "    \n",
    "        \n",
    "greaterOrLess()"
   ]
  },
  {
   "cell_type": "code",
   "execution_count": null,
   "metadata": {},
   "outputs": [],
   "source": [
    "# lav et if-elif-else statement some checker om a er større og mindre eller lig med b. Når du har lavet functionen kan du prøve at skifte variablerne til andre int eller floats så du\n",
    "# får andre outputs.\n",
    "\n",
    "def greaterOrLessOrEqual():\n",
    "    a = 1\n",
    "    b = 1\n",
    "\n",
    "greaterOrLessOrEqual()\n",
    "\n"
   ]
  },
  {
   "cell_type": "code",
   "execution_count": 49,
   "metadata": {},
   "outputs": [
    {
     "name": "stdout",
     "output_type": "stream",
     "text": [
      "Jacob\n"
     ]
    }
   ],
   "source": [
    "# lav din egen function der tager to argumenter og plusser dem sammen\n",
    "\n"
   ]
  },
  {
   "cell_type": "code",
   "execution_count": null,
   "metadata": {},
   "outputs": [],
   "source": [
    "x = input(\"hej \")\n",
    "print(x)\n",
    "\n",
    "# I koden ovenover bliver den indbygget function input brugt. Prøv at kør koden og se om du kan finde ud af hvad den gør. Brug input til at spørge brugeren om deres og print det. "
   ]
  },
  {
   "cell_type": "code",
   "execution_count": null,
   "metadata": {},
   "outputs": [],
   "source": [
    "# I denne function skal du spørge brugeren om 2 integers og gange dem sammen og printe resultatet"
   ]
  },
  {
   "cell_type": "code",
   "execution_count": null,
   "metadata": {},
   "outputs": [],
   "source": [
    "# Nu har du prøvet krafter med variabler, function og if-statements. Det sidste vi skal lære før vi går igang med noget lidt svære er at bruge for og while loop. \n",
    "# \n",
    "# Brug et for loop til at printe alle ting i listen. Et for loop bliver lavet på denne måde - for x in list: \n",
    "\n",
    "def forloop():\n",
    "    list = [\"tomat\",\"æble\",\"pære\"]\n",
    "\n",
    "forloop()"
   ]
  },
  {
   "cell_type": "code",
   "execution_count": 50,
   "metadata": {},
   "outputs": [
    {
     "name": "stdout",
     "output_type": "stream",
     "text": [
      "1\n",
      "2\n",
      "3\n",
      "4\n",
      "5\n",
      "6\n",
      "7\n",
      "8\n",
      "9\n"
     ]
    }
   ],
   "source": [
    "# Nu skal du have lavet et while loop der tæller til 10 og printer disse resultater. Et while loop bliver brugt på denne måde - while i < 10. \n",
    "\n",
    "def whileloop():\n",
    "    i = 1 \n",
    "    \n",
    "\n",
    "whileloop()"
   ]
  },
  {
   "cell_type": "code",
   "execution_count": 57,
   "metadata": {},
   "outputs": [
    {
     "name": "stdout",
     "output_type": "stream",
     "text": [
      "[11, 100, 99, 1000, 999]\n"
     ]
    }
   ],
   "source": [
    "# prøv at sorter listen ved hjælp function sort() - sort function skal skrives sådan her variable.function()\n",
    "\n",
    "list=[11, 100, 99, 1000, 999]\n",
    "\n",
    "#skriv dit svar her \n",
    "\n",
    "\n",
    "print(list)"
   ]
  },
  {
   "cell_type": "code",
   "execution_count": 60,
   "metadata": {},
   "outputs": [
    {
     "name": "stdout",
     "output_type": "stream",
     "text": [
      "6\n"
     ]
    }
   ],
   "source": [
    "# Skriv en funktion, der tager en streng som input og returnerer længden af den ved hjælp af denne function - len(variable)\n",
    "\n",
    "\n",
    "\n"
   ]
  },
  {
   "cell_type": "code",
   "execution_count": null,
   "metadata": {},
   "outputs": [],
   "source": [
    "# Du har nu fået alle værktøjer til at lave nogle lidt svære opgaver. Prøv at lav en function der kan finde det største tal i en liste. \n",
    "\n",
    "# hints:\n",
    "# Du skal bruge et for-loop der iterere hen og listen og if-statement der tjekker om det tal du kigger på nu er større end det største tal du har set indtil videre. \n",
    "# husk at gemme værdierne i variablen.\n",
    "# Gør det unden at bruge en indbygget function.\n",
    "\n",
    "def largestNumber():\n",
    "    largestnumber = 0\n",
    "    list = [1,4,2,1,9,7,4,8]\n",
    "    \n",
    "largestNumber()"
   ]
  }
 ],
 "metadata": {
  "kernelspec": {
   "display_name": "Python 3",
   "language": "python",
   "name": "python3"
  },
  "language_info": {
   "codemirror_mode": {
    "name": "ipython",
    "version": 3
   },
   "file_extension": ".py",
   "mimetype": "text/x-python",
   "name": "python",
   "nbconvert_exporter": "python",
   "pygments_lexer": "ipython3",
   "version": "3.11.2"
  },
  "orig_nbformat": 4,
  "vscode": {
   "interpreter": {
    "hash": "eff6a124bfc09e6c1ad18d627ee78cce0d65eb40ec74edeeed63dc4b177fe869"
   }
  }
 },
 "nbformat": 4,
 "nbformat_minor": 2
}
